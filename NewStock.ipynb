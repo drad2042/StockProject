{
 "cells": [
  {
   "cell_type": "code",
   "execution_count": 7,
   "metadata": {},
   "outputs": [],
   "source": [
    "%%capture\n",
    "%pip install yfinance\n",
    "%pip install pandas\n",
    "%pip install matplotlib"
   ]
  },
  {
   "cell_type": "code",
   "execution_count": 1,
   "metadata": {},
   "outputs": [],
   "source": [
    "import yfinance as yf\n",
    "import pandas as pd\n",
    "import matplotlib as plt"
   ]
  },
  {
   "cell_type": "markdown",
   "metadata": {},
   "source": [
    "***CURRENTLY OWNED STOCKS***"
   ]
  },
  {
   "cell_type": "code",
   "execution_count": 2,
   "metadata": {},
   "outputs": [],
   "source": [
    "amazon = yf.Ticker(\"AMZN\")\n",
    "rivian = yf.Ticker(\"RIVN\")\n",
    "nvidia = yf.Ticker(\"NVDA\")\n",
    "oatly = yf.Ticker(\"OTLY\")\n",
    "meta = yf.Ticker(\"META\")"
   ]
  },
  {
   "cell_type": "code",
   "execution_count": 4,
   "metadata": {},
   "outputs": [],
   "source": [
    "amazon_history = amazon.history(period = \"max\")\n",
    "rivian_history = rivian.history(period = \"max\")\n",
    "nvidia_history = nvidia.history(period = \"max\")\n",
    "oatly_history = oatly.history(period = \"max\")\n",
    "meta_history = meta.history(period = \"max\")"
   ]
  }
 ],
 "metadata": {
  "kernelspec": {
   "display_name": "Python 3",
   "language": "python",
   "name": "python3"
  },
  "language_info": {
   "codemirror_mode": {
    "name": "ipython",
    "version": 3
   },
   "file_extension": ".py",
   "mimetype": "text/x-python",
   "name": "python",
   "nbconvert_exporter": "python",
   "pygments_lexer": "ipython3",
   "version": "3.11.9"
  }
 },
 "nbformat": 4,
 "nbformat_minor": 2
}
