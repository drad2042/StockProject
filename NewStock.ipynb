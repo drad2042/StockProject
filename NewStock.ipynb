{
 "cells": [
  {
   "cell_type": "code",
   "execution_count": 7,
   "metadata": {},
   "outputs": [],
   "source": [
    "%%capture\n",
    "%pip install yfinance\n",
    "%pip install pandas\n",
    "%pip install matplotlib"
   ]
  },
  {
   "cell_type": "code",
   "execution_count": 1,
   "metadata": {},
   "outputs": [],
   "source": [
    "import yfinance as yf\n",
    "import pandas as pd\n",
    "import matplotlib as plt"
   ]
  },
  {
   "cell_type": "markdown",
   "metadata": {},
   "source": [
    "***CURRENTLY OWNED STOCKS***"
   ]
  },
  {
   "cell_type": "code",
   "execution_count": 2,
   "metadata": {},
   "outputs": [],
   "source": [
    "amazon = yf.Ticker(\"AMZN\")\n",
    "rivian = yf.Ticker(\"RIVN\")\n",
    "nvidia = yf.Ticker(\"NVDA\")\n",
    "oatly = yf.Ticker(\"OTLY\")\n",
    "meta = yf.Ticker(\"META\")"
   ]
  },
  {
   "cell_type": "code",
   "execution_count": 3,
   "metadata": {},
   "outputs": [
    {
     "name": "stdout",
     "output_type": "stream",
     "text": [
      "                                 Open        High         Low       Close  \\\n",
      "Date                                                                        \n",
      "1997-05-15 00:00:00-04:00    0.121875    0.125000    0.096354    0.097917   \n",
      "1997-05-16 00:00:00-04:00    0.098438    0.098958    0.085417    0.086458   \n",
      "1997-05-19 00:00:00-04:00    0.088021    0.088542    0.081250    0.085417   \n",
      "1997-05-20 00:00:00-04:00    0.086458    0.087500    0.081771    0.081771   \n",
      "1997-05-21 00:00:00-04:00    0.081771    0.082292    0.068750    0.071354   \n",
      "...                               ...         ...         ...         ...   \n",
      "2024-06-03 00:00:00-04:00  177.699997  178.699997  175.919998  178.339996   \n",
      "2024-06-04 00:00:00-04:00  177.639999  179.820007  176.440002  179.339996   \n",
      "2024-06-05 00:00:00-04:00  180.100006  181.500000  178.750000  181.279999   \n",
      "2024-06-06 00:00:00-04:00  181.750000  185.000000  181.490005  185.000000   \n",
      "2024-06-07 00:00:00-04:00  184.899994  186.289993  183.360001  184.300003   \n",
      "\n",
      "                               Volume  Dividends  Stock Splits  \n",
      "Date                                                            \n",
      "1997-05-15 00:00:00-04:00  1443120000        0.0           0.0  \n",
      "1997-05-16 00:00:00-04:00   294000000        0.0           0.0  \n",
      "1997-05-19 00:00:00-04:00   122136000        0.0           0.0  \n",
      "1997-05-20 00:00:00-04:00   109344000        0.0           0.0  \n",
      "1997-05-21 00:00:00-04:00   377064000        0.0           0.0  \n",
      "...                               ...        ...           ...  \n",
      "2024-06-03 00:00:00-04:00    30786600        0.0           0.0  \n",
      "2024-06-04 00:00:00-04:00    27198400        0.0           0.0  \n",
      "2024-06-05 00:00:00-04:00    32116400        0.0           0.0  \n",
      "2024-06-06 00:00:00-04:00    31371200        0.0           0.0  \n",
      "2024-06-07 00:00:00-04:00    27977300        0.0           0.0  \n",
      "\n",
      "[6811 rows x 7 columns]\n"
     ]
    }
   ],
   "source": [
    "hist = amazon.history(period = \"max\")\n",
    "print(hist)"
   ]
  }
 ],
 "metadata": {
  "kernelspec": {
   "display_name": "Python 3",
   "language": "python",
   "name": "python3"
  },
  "language_info": {
   "codemirror_mode": {
    "name": "ipython",
    "version": 3
   },
   "file_extension": ".py",
   "mimetype": "text/x-python",
   "name": "python",
   "nbconvert_exporter": "python",
   "pygments_lexer": "ipython3",
   "version": "3.11.9"
  }
 },
 "nbformat": 4,
 "nbformat_minor": 2
}
